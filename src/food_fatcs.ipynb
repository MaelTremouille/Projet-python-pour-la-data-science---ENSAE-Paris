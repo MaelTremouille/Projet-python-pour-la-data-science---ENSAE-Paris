{
 "cells": [
  {
   "cell_type": "markdown",
   "metadata": {},
   "source": [
    "# Document principal du projet"
   ]
  },
  {
   "cell_type": "markdown",
   "metadata": {},
   "source": [
    "## Création de la base de données\n"
   ]
  },
  {
   "cell_type": "markdown",
   "metadata": {},
   "source": [
    "On se sert directement du fichier *src/services/init/initialisation.json*. Ce fichier contient une liste de codes-barres que l'on utilise pour instancier la base de données *src/database/barcodes.json*."
   ]
  },
  {
   "cell_type": "markdown",
   "metadata": {},
   "source": [
    "On doit d'abord s'assurer d'être au bon endroit et d'avoir le bon *working directory*, à savoir : *Projet-python-pour-la-data-science---ENSAE-Paris*."
   ]
  },
  {
   "cell_type": "code",
   "execution_count": 1,
   "metadata": {},
   "outputs": [
    {
     "name": "stdout",
     "output_type": "stream",
     "text": [
      "Le working directory est maintenant : c:\\Users\\trema\\OneDrive\\Bureau\\ENSAE Paris\\Cours\\S1\\4. Python pour la data science\\Projet-python-pour-la-data-science---ENSAE-Paris\n"
     ]
    }
   ],
   "source": [
    "import os\n",
    "\n",
    "def set_working_directory(target_dir_name):\n",
    "    current_dir = os.getcwd()\n",
    "    \n",
    "    while os.path.basename(current_dir) != target_dir_name:\n",
    "        parent_dir = os.path.dirname(current_dir)\n",
    "        # Si on atteint la racine sans trouver le dossier cible, on arrête pour éviter une boucle infinie\n",
    "        if current_dir == parent_dir:  \n",
    "            raise FileNotFoundError(f\"Le dossier cible '{target_dir_name}' n'a pas été trouvé dans l'arborescence.\")\n",
    "        current_dir = parent_dir  # Remonter d'un niveau\n",
    "\n",
    "    os.chdir(current_dir)\n",
    "    print(f\"Le working directory est maintenant : {os.getcwd()}\")\n",
    "\n",
    "# Exemple d'utilisation\n",
    "try:\n",
    "    set_working_directory(\"Projet-python-pour-la-data-science---ENSAE-Paris\")\n",
    "except FileNotFoundError as e:\n",
    "    print(e)\n"
   ]
  },
  {
   "cell_type": "markdown",
   "metadata": {},
   "source": [
    "On importe ensuite la class **Barcodes** puis on l'initialise. "
   ]
  },
  {
   "cell_type": "code",
   "execution_count": 2,
   "metadata": {},
   "outputs": [],
   "source": [
    "from src.services.barcodes import Barcodes\n",
    "import os\n",
    "\n",
    "# On instancie la base de données si cela n'a pas déjà été fait\n",
    "bar = Barcodes()\n",
    "bar.initialiser_database()"
   ]
  },
  {
   "cell_type": "markdown",
   "metadata": {},
   "source": [
    "Une fois que cela a été fait, on peut désormais créer une nouvelle catégorie, appelée **categorie_clean**, celle-ci permet de regrouter différents produits qui ont des caractéristiques communes. Ensuite, on peut afficher un aperçu de la base de données (BDD)."
   ]
  },
  {
   "cell_type": "code",
   "execution_count": 3,
   "metadata": {},
   "outputs": [
    {
     "name": "stdout",
     "output_type": "stream",
     "text": [
      "Nom des colonnes :\n",
      "['Nom', 'Nutriscore', 'Ecoscore', 'Taux de sel (100g)', 'Taux de matieres grasses (100g)', 'Taux de matieres grasses saturees (100g)', 'Taux de proteine (100g)', 'Taux de sucre (100g)', 'Energie (Kcal) (100g)', 'Categorie_clean']\n",
      "------------------------------------------------------------\n",
      "\n",
      "Les 2 premières lignes de la BDD\n",
      "                                   Nom Nutriscore  Ecoscore  \\\n",
      "Barcode                                                       \n",
      "3073781055016        Fagotin tradition          d      47.0   \n",
      "3564707128117  Ricotta bio 8% Mat. Gr.          c      60.0   \n",
      "\n",
      "              Taux de sel (100g) Taux de matieres grasses (100g)  \\\n",
      "Barcode                                                            \n",
      "3073781055016                1.4                              28   \n",
      "3564707128117                0.4                               8   \n",
      "\n",
      "              Taux de matieres grasses saturees (100g)  \\\n",
      "Barcode                                                  \n",
      "3073781055016                                       19   \n",
      "3564707128117                                        6   \n",
      "\n",
      "              Taux de proteine (100g) Taux de sucre (100g)  \\\n",
      "Barcode                                                      \n",
      "3073781055016                      20                  0.5   \n",
      "3564707128117                       8                    3   \n",
      "\n",
      "              Energie (Kcal) (100g)    Categorie_clean  \n",
      "Barcode                                                 \n",
      "3073781055016                   332  Produits laitiers  \n",
      "3564707128117                   N/A  Produits laitiers  \n"
     ]
    }
   ],
   "source": [
    "from src.services.traitement import Traitement\n",
    "# Création d'une instance\n",
    "traitement = Traitement()\n",
    "\n",
    "# On récupère de DataFrame\n",
    "df = traitement.df\n",
    "\n",
    "# Affichage des données transformées\n",
    "print(f\"Nom des colonnes :\\n{[name for name in df.columns]}\")\n",
    "print('-'*60 + '\\n')\n",
    "print(\"Les 2 premières lignes de la BDD\")\n",
    "print(df.head(2))"
   ]
  }
 ],
 "metadata": {
  "kernelspec": {
   "display_name": "base",
   "language": "python",
   "name": "python3"
  },
  "language_info": {
   "codemirror_mode": {
    "name": "ipython",
    "version": 3
   },
   "file_extension": ".py",
   "mimetype": "text/x-python",
   "name": "python",
   "nbconvert_exporter": "python",
   "pygments_lexer": "ipython3",
   "version": "3.12.7"
  }
 },
 "nbformat": 4,
 "nbformat_minor": 2
}
