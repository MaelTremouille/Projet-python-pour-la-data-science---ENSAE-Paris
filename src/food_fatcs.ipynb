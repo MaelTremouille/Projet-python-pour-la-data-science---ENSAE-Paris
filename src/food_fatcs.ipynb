{
 "cells": [
  {
   "cell_type": "markdown",
   "metadata": {},
   "source": [
    "# Document principal du projet"
   ]
  },
  {
   "cell_type": "markdown",
   "metadata": {},
   "source": [
    "## Création de la base de données\n"
   ]
  },
  {
   "cell_type": "markdown",
   "metadata": {},
   "source": [
    "On se sert directement du fichier *src/services/init/initialisation.json*. Ce fichier contient une liste de codes-barres que l'on utilise pour instancier la base de données *src/database/barcodes.json*."
   ]
  },
  {
   "cell_type": "code",
   "execution_count": 1,
   "metadata": {},
   "outputs": [
    {
     "name": "stdout",
     "output_type": "stream",
     "text": [
      "/home/onyxia/work/Projet-python-pour-la-data-science---ENSAE-Paris/src\n",
      "/home/onyxia/work/Projet-python-pour-la-data-science---ENSAE-Paris\n"
     ]
    }
   ],
   "source": [
    "import os\n",
    "print(os.getcwd())\n",
    "# On est au mauvais endroit donc on set up le working directory correctement \n",
    "os.chdir(os.path.dirname(os.getcwd()))\n",
    "print(os.getcwd())\n",
    "\n"
   ]
  },
  {
   "cell_type": "code",
   "execution_count": 2,
   "metadata": {},
   "outputs": [],
   "source": [
    "from src.services.barcodes import Barcodes\n",
    "import os\n",
    "\n",
    "# On instancie la base de données si cela n'a pas déjà été fait\n",
    "bar = Barcodes()\n",
    "bar.initialiser_database()"
   ]
  },
  {
   "cell_type": "code",
   "execution_count": 3,
   "metadata": {},
   "outputs": [
    {
     "name": "stdout",
     "output_type": "stream",
     "text": [
      "Répertoire actuel : /home/onyxia/work/Projet-python-pour-la-data-science---ENSAE-Paris\n",
      "Répertoire après retour en arrière : /home/onyxia/work/Projet-python-pour-la-data-science---ENSAE-Paris\n"
     ]
    }
   ],
   "source": [
    "# Chemin actuel\n",
    "current_dir = os.getcwd()\n",
    "print(f\"Répertoire actuel : {current_dir}\")\n",
    "\n",
    "# Revenir au répertoire parent\n",
    "\n",
    "# Nouveau chemin\n",
    "new_dir = os.getcwd()\n",
    "print(f\"Répertoire après retour en arrière : {new_dir}\")"
   ]
  },
  {
   "cell_type": "code",
   "execution_count": null,
   "metadata": {},
   "outputs": [
    {
     "name": "stdout",
     "output_type": "stream",
     "text": [
      "                                           3073781055016  \\\n",
      "Nom                                    Fagotin tradition   \n",
      "Categorie                                     en:dairies   \n",
      "Nutriscore                                             d   \n",
      "Novascore   en:4-ultra-processed-food-and-drink-products   \n",
      "Ecoscore                                              47   \n",
      "\n",
      "                                           3564707128117  \\\n",
      "Nom                              Ricotta bio 8% Mat. Gr.   \n",
      "Categorie                                     en:dairies   \n",
      "Nutriscore                                             c   \n",
      "Novascore   en:4-ultra-processed-food-and-drink-products   \n",
      "Ecoscore                                              60   \n",
      "\n",
      "                                 3564700583135         3596710495979  \\\n",
      "Nom         Fromage Le Carre Au Lait Pasterise     Gouda tranchettes   \n",
      "Categorie                           en:dairies            en:dairies   \n",
      "Nutriscore                                   d                     d   \n",
      "Novascore                 en:3-processed-foods  en:3-processed-foods   \n",
      "Ecoscore                                    44                    38   \n",
      "\n",
      "                   3564707090162       3330410005980  \\\n",
      "Nom               Mozzarella x 1  Edam tranches 200g   \n",
      "Categorie             en:dairies          en:dairies   \n",
      "Nutriscore                     c                   d   \n",
      "Novascore   en:3-processed-foods             unknown   \n",
      "Ecoscore                      65                  35   \n",
      "\n",
      "                            5010578008044  \\\n",
      "Nom         Cottage Cheese With Pineapple   \n",
      "Categorie                      en:dairies   \n",
      "Nutriscore                              c   \n",
      "Novascore                         unknown   \n",
      "Ecoscore                               35   \n",
      "\n",
      "                                  3250391819256             3257986760191  \\\n",
      "Nom         Le Sainte-Maure - Fromage de chèvre  Mozarella cossettes cora   \n",
      "Categorie                            en:dairies                en:dairies   \n",
      "Nutriscore                                    d                         d   \n",
      "Novascore                  en:3-processed-foods      en:3-processed-foods   \n",
      "Ecoscore                                     22                        40   \n",
      "\n",
      "                      3222472116851  ...                        5201043112605  \\\n",
      "Nom         La Raclette en tranches  ...                                  N/A   \n",
      "Categorie                en:dairies  ...   en:plant-based-foods-and-beverages   \n",
      "Nutriscore                        d  ...                                    c   \n",
      "Novascore      en:3-processed-foods  ...  en:2-processed-culinary-ingredients   \n",
      "Ecoscore                         45  ...                                   27   \n",
      "\n",
      "                                  3760301420477  \\\n",
      "Nom              Huile d’olive vierge extra ail   \n",
      "Categorie    en:plant-based-foods-and-beverages   \n",
      "Nutriscore                                    c   \n",
      "Novascore   en:2-processed-culinary-ingredients   \n",
      "Ecoscore                                     27   \n",
      "\n",
      "                                  3760301420378  \\\n",
      "Nom                  Huile d’olive vierge extra   \n",
      "Categorie    en:plant-based-foods-and-beverages   \n",
      "Nutriscore                                    c   \n",
      "Novascore   en:2-processed-culinary-ingredients   \n",
      "Ecoscore                                     27   \n",
      "\n",
      "                                  3021885000715  \\\n",
      "Nom                               Huile de noix   \n",
      "Categorie    en:plant-based-foods-and-beverages   \n",
      "Nutriscore                                    c   \n",
      "Novascore   en:2-processed-culinary-ingredients   \n",
      "Ecoscore                                     -1   \n",
      "\n",
      "                                 8424536935926  \\\n",
      "Nom                 Huile d'olive vierge extra   \n",
      "Categorie   en:plant-based-foods-and-beverages   \n",
      "Nutriscore                                   c   \n",
      "Novascore                              unknown   \n",
      "Ecoscore                                    27   \n",
      "\n",
      "                                  8008460003670  \\\n",
      "Nom                 Olio extra vergine di oliva   \n",
      "Categorie    en:plant-based-foods-and-beverages   \n",
      "Nutriscore                                    c   \n",
      "Novascore   en:2-processed-culinary-ingredients   \n",
      "Ecoscore                                     27   \n",
      "\n",
      "                                 4005009103062  \\\n",
      "Nom                                     Bratöl   \n",
      "Categorie   en:plant-based-foods-and-beverages   \n",
      "Nutriscore                                   c   \n",
      "Novascore                              unknown   \n",
      "Ecoscore                                    64   \n",
      "\n",
      "                                           96619206841    \\\n",
      "Nom                             Canola oil cooking spray   \n",
      "Categorie             en:plant-based-foods-and-beverages   \n",
      "Nutriscore                                             c   \n",
      "Novascore   en:4-ultra-processed-food-and-drink-products   \n",
      "Ecoscore                                              52   \n",
      "\n",
      "                                  3760232740033  \\\n",
      "Nom                   Huile vierge bio de Colza   \n",
      "Categorie    en:plant-based-foods-and-beverages   \n",
      "Nutriscore                              unknown   \n",
      "Novascore   en:2-processed-culinary-ingredients   \n",
      "Ecoscore                                     72   \n",
      "\n",
      "                                  3701515200110  \n",
      "Nom                        Huile d olive piment  \n",
      "Categorie    en:plant-based-foods-and-beverages  \n",
      "Nutriscore                                    c  \n",
      "Novascore   en:2-processed-culinary-ingredients  \n",
      "Ecoscore                                     27  \n",
      "\n",
      "[5 rows x 462 columns]\n"
     ]
    }
   ],
   "source": [
    "from src.services.traitement import Traitement\n",
    "# Création d'une instance\n",
    "traitement = Traitement()\n",
    "\n",
    "# Application de la transformation\n",
    "#traitement.appliquer_transformation_categories() Probleme il faut avoir les produits en lignes et pas en colonnes\n",
    "\n",
    "# Affichage des données transformées\n",
    "print(traitement.df.head())\n",
    "#df = pd.DataFrame.from_dict(data, orient='index')"
   ]
  }
 ],
 "metadata": {
  "kernelspec": {
   "display_name": "base",
   "language": "python",
   "name": "python3"
  },
  "language_info": {
   "codemirror_mode": {
    "name": "ipython",
    "version": 3
   },
   "file_extension": ".py",
   "mimetype": "text/x-python",
   "name": "python",
   "nbconvert_exporter": "python",
   "pygments_lexer": "ipython3",
   "version": "3.12.7"
  }
 },
 "nbformat": 4,
 "nbformat_minor": 2
}
